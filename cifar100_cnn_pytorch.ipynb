{
  "nbformat": 4,
  "nbformat_minor": 0,
  "metadata": {
    "colab": {
      "provenance": [],
      "gpuType": "T4",
      "authorship_tag": "ABX9TyOAaULsVEnH5L6SLxIxJK2D",
      "include_colab_link": true
    },
    "kernelspec": {
      "name": "python3",
      "display_name": "Python 3"
    },
    "language_info": {
      "name": "python"
    },
    "accelerator": "GPU"
  },
  "cells": [
    {
      "cell_type": "markdown",
      "metadata": {
        "id": "view-in-github",
        "colab_type": "text"
      },
      "source": [
        "<a href=\"https://colab.research.google.com/github/Flamingo23456/AI_bootcamp/blob/main/cifar100_cnn_pytorch.ipynb\" target=\"_parent\"><img src=\"https://colab.research.google.com/assets/colab-badge.svg\" alt=\"Open In Colab\"/></a>"
      ]
    },
    {
      "cell_type": "code",
      "execution_count": 1,
      "metadata": {
        "id": "oPMC7tQpHD3m"
      },
      "outputs": [],
      "source": [
        "#import dependencies\n",
        "import torch\n",
        "import torch.nn as nn\n",
        "import torch.optim as optim\n",
        "from torchvision import datasets,transforms\n",
        "from torch.utils.data import DataLoader\n"
      ]
    },
    {
      "cell_type": "code",
      "source": [
        "#transforms\n",
        "transform=transforms.Compose([transforms.ToTensor(),\n",
        "                              transforms.Normalize((0.5),(0.5))\n",
        "                              ])\n"
      ],
      "metadata": {
        "id": "yB7ykSMDH8VY"
      },
      "execution_count": 2,
      "outputs": []
    },
    {
      "cell_type": "code",
      "source": [
        "#load data\n",
        "train_data=datasets.FashionMNIST(root='./dir',\n",
        "                             train=True,\n",
        "                             download=True,\n",
        "                             transform=transform)\n",
        "test_data=datasets.FashionMNIST(root='./dir',\n",
        "                            train=False,\n",
        "                            download=True,\n",
        "                            transform=transform)\n",
        "\n",
        "train_loader=DataLoader(train_data,\n",
        "                        batch_size=128,\n",
        "                        shuffle=True)\n",
        "test_loader=DataLoader(test_data,\n",
        "                       batch_size=128,\n",
        "                       shuffle=False)\n"
      ],
      "metadata": {
        "colab": {
          "base_uri": "https://localhost:8080/"
        },
        "id": "8W4RQPDtImOO",
        "outputId": "d8347845-a240-4c9f-a8bc-95819db23255"
      },
      "execution_count": 3,
      "outputs": [
        {
          "output_type": "stream",
          "name": "stderr",
          "text": [
            "100%|██████████| 26.4M/26.4M [00:02<00:00, 8.82MB/s]\n",
            "100%|██████████| 29.5k/29.5k [00:00<00:00, 152kB/s]\n",
            "100%|██████████| 4.42M/4.42M [00:01<00:00, 2.75MB/s]\n",
            "100%|██████████| 5.15k/5.15k [00:00<00:00, 14.5MB/s]\n"
          ]
        }
      ]
    },
    {
      "cell_type": "code",
      "source": [
        "#architecture\n",
        "class cnn_fashionmnist(nn.Module):\n",
        "  def __init__(self):\n",
        "    super(cnn_fashionmnist,self).__init__()\n",
        "    self.conv1=nn.Conv2d(1,32,3,padding=1)#convolution layer\n",
        "    self.pool1=nn.MaxPool2d(2,2)#pooling layer\n",
        "\n",
        "    self.conv2=nn.Conv2d(32,64,3)#convolution layer\n",
        "    self.pool2=nn.MaxPool2d(2,2)#pooling layer\n",
        "\n",
        "    #FahionMNIST size is 28X28X1\n",
        "    #Converted to 14X14X1\n",
        "    #Converted to 14X14X64\n",
        "    #Then to 7X7X64\n",
        "    #Dense layers\n",
        "    self.fc1=nn.Linear(6*6*64,256)\n",
        "    self.fc2=nn.Linear(256,128)\n",
        "    self.fc3=nn.Linear(128,10)\n",
        "\n",
        "  def forward(self,x):\n",
        "    #x represents the image input\n",
        "    x=self.conv1(x)\n",
        "    x=torch.relu(x)\n",
        "    x=self.pool1(x)\n",
        "\n",
        "    x=self.pool2(torch.relu(self.conv2(x)))\n",
        "    #x=x.Flatten(1)#x=x.view(x.size(0),-1)\n",
        "    x=x.view(x.size(0),-1) # Flatten the tensor\n",
        "    x=self.fc1(x)\n",
        "    x=torch.relu(x)\n",
        "    x=self.fc2(x)\n",
        "    x=torch.relu(x)\n",
        "    x=self.fc3(x)\n",
        "    return x"
      ],
      "metadata": {
        "id": "QTE-qXdaJxrv"
      },
      "execution_count": 4,
      "outputs": []
    },
    {
      "cell_type": "code",
      "source": [
        "#object creation\n",
        "model=cnn_fashionmnist()\n",
        "criterion=nn.CrossEntropyLoss()\n",
        "optimizer=optim.Adam(model.parameters(),\n",
        "                     lr=0.001)"
      ],
      "metadata": {
        "id": "JsVsfvrrWanT"
      },
      "execution_count": 5,
      "outputs": []
    },
    {
      "cell_type": "code",
      "source": [
        "#train\n",
        "for epoch in range(5):\n",
        "  for image,label in train_loader:\n",
        "    output=model(image)\n",
        "    loss=criterion(output,label)\n",
        "    loss.backward()\n",
        "    optimizer.step()\n",
        "    optimizer.zero_grad()\n",
        "  print(f\"epoch:{epoch+1},loss:{loss}\")"
      ],
      "metadata": {
        "colab": {
          "base_uri": "https://localhost:8080/"
        },
        "id": "3JkBgN0qXkIv",
        "outputId": "c8abc676-7e8d-4bbe-ce7f-2e58df19986f"
      },
      "execution_count": 10,
      "outputs": [
        {
          "output_type": "stream",
          "name": "stdout",
          "text": [
            "epoch:1,loss:0.11279643326997757\n",
            "epoch:2,loss:0.09355369955301285\n",
            "epoch:3,loss:0.04243222251534462\n",
            "epoch:4,loss:0.03865954652428627\n",
            "epoch:5,loss:0.03928624466061592\n"
          ]
        }
      ]
    },
    {
      "cell_type": "code",
      "source": [
        "correct=0.0\n",
        "total=0.0\n",
        "model.eval()\n",
        "with torch.no_grad():\n",
        "  output=model(image)\n",
        "  max,predicted=torch.max(output,1)\n",
        "  correct+=(predicted==label).sum().item()\n",
        "  total+=label.size(0)\n",
        "print(f\"test accuracy:{(correct/total)*100}\")"
      ],
      "metadata": {
        "colab": {
          "base_uri": "https://localhost:8080/"
        },
        "id": "KBTmgYrpcCBt",
        "outputId": "350c24d2-26a2-46cc-ea0b-c131a0d0dde5"
      },
      "execution_count": 11,
      "outputs": [
        {
          "output_type": "stream",
          "name": "stdout",
          "text": [
            "test accuracy:100.0\n"
          ]
        }
      ]
    }
  ]
}