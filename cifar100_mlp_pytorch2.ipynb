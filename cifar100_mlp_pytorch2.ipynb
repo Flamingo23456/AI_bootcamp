{
  "nbformat": 4,
  "nbformat_minor": 0,
  "metadata": {
    "colab": {
      "provenance": [],
      "gpuType": "T4",
      "authorship_tag": "ABX9TyNxhcobhBRKXl79sHzuo38J",
      "include_colab_link": true
    },
    "kernelspec": {
      "name": "python3",
      "display_name": "Python 3"
    },
    "language_info": {
      "name": "python"
    },
    "accelerator": "GPU"
  },
  "cells": [
    {
      "cell_type": "markdown",
      "metadata": {
        "id": "view-in-github",
        "colab_type": "text"
      },
      "source": [
        "<a href=\"https://colab.research.google.com/github/Flamingo23456/AI_bootcamp/blob/main/cifar100_mlp_pytorch2.ipynb\" target=\"_parent\"><img src=\"https://colab.research.google.com/assets/colab-badge.svg\" alt=\"Open In Colab\"/></a>"
      ]
    },
    {
      "cell_type": "code",
      "execution_count": 1,
      "metadata": {
        "id": "s7IjBMC3M0Hv"
      },
      "outputs": [],
      "source": [
        "import torch\n",
        "import torch.nn as nn\n",
        "import torch.optim as optim\n",
        "from torchvision import datasets, transforms\n",
        "from torch.utils.data import DataLoader"
      ]
    },
    {
      "cell_type": "code",
      "source": [
        "#Transforms\n",
        "transform=transforms.Compose([\n",
        "    transforms.ToTensor(),\n",
        "    transforms.Normalize((0.5,0.5,0.5),(0.5,0.5,0.5))\n",
        "])"
      ],
      "metadata": {
        "id": "eVhUQk9kNGwy"
      },
      "execution_count": 3,
      "outputs": []
    },
    {
      "cell_type": "code",
      "source": [
        "#Load data\n",
        "train_data=datasets.CIFAR100(root='./dir',\n",
        "                             train=True,\n",
        "                             download=True,transform=transform)\n",
        "test_data=datasets.CIFAR100(root='./dir',\n",
        "                             train=False,\n",
        "                             download=True,transform=transform)\n",
        "train_loader=DataLoader(train_data,\n",
        "                        batch_size=128,\n",
        "                        shuffle=True)\n",
        "test_Loader=DataLoader(test_data,\n",
        "                       batch_size=128,\n",
        "                       shuffle=False)"
      ],
      "metadata": {
        "id": "s58dEgIdNt85"
      },
      "execution_count": 6,
      "outputs": []
    },
    {
      "cell_type": "code",
      "source": [
        "#architecture\n",
        "class MLP(nn.Module):\n",
        "  def __init__(self):\n",
        "    super(MLP,self).__init__()\n",
        "    self.Flatten=nn.Flatten()\n",
        "    self.fc1=nn.Linear(32*32*3,1024)\n",
        "    self.fc2=nn.Linear(1024,512)\n",
        "    self.fc3=nn.Linear(512,256)\n",
        "    self.fc4=nn.Linear(256,128)\n",
        "    self.fc5=nn.Linear(128,100)\n",
        "\n",
        "  def forward(self,x):\n",
        "    x=self.Flatten(x)\n",
        "    x=self.fc1(x)\n",
        "    x=torch.relu(x)\n",
        "    x=self.fc2(x)\n",
        "    x=torch.relu(x)\n",
        "    x=self.fc3(x)\n",
        "    x=torch.relu(x)\n",
        "    x=self.fc4(x)\n",
        "    x=torch.relu(x)\n",
        "    x=self.fc5(x)\n",
        "    return x\n",
        "\n",
        "model=MLP()\n",
        "criterian=nn.CrossEntropyLoss()\n",
        "optimizer=optim.Adam(model.parameters(),\n",
        "                     lr=0.001)\n"
      ],
      "metadata": {
        "id": "zHMzqO6QRrCK"
      },
      "execution_count": 11,
      "outputs": []
    },
    {
      "cell_type": "code",
      "source": [
        "#train\n",
        "\n",
        "for epoch in range(3):\n",
        "  epoch_loss=0.0\n",
        "  for image,label in train_loader:\n",
        "    output=model(image)#send the input\n",
        "    loss=criterian(output,label)#loss calculation\n",
        "    loss.backward()#backward propogation\n",
        "    #optimizer.step()\n",
        "    optimizer.zero_grad()\n",
        "    epoch_loss+=loss.item()\n",
        "  print(f\"epoch_loss:{epoch_loss}\")"
      ],
      "metadata": {
        "colab": {
          "base_uri": "https://localhost:8080/"
        },
        "id": "O46EYPqkZewG",
        "outputId": "9d6f820d-1067-4dce-a701-866917f32cb2"
      },
      "execution_count": 16,
      "outputs": [
        {
          "output_type": "stream",
          "name": "stdout",
          "text": [
            "epoch_loss:1801.316780090332\n",
            "epoch_loss:1801.314540863037\n",
            "epoch_loss:1801.3156251907349\n"
          ]
        }
      ]
    },
    {
      "cell_type": "code",
      "source": [
        "#evaluate\n",
        "total=0\n",
        "correct=0\n",
        "model.eval()\n",
        "with torch.no_grad():\n",
        "  for image,label in test_Loader:\n",
        "    output=model(image)\n",
        "    _,predicted=torch.max(output,1)\n",
        "  total+=label.size(0)\n",
        "  correct+=(predicted==label).sum().item()\n",
        "print(f\"accuracy={(correct/total)*100}\")"
      ],
      "metadata": {
        "colab": {
          "base_uri": "https://localhost:8080/"
        },
        "id": "S2-9bH2eVVtp",
        "outputId": "c3f7146f-b400-4424-d4c5-88a761673317"
      },
      "execution_count": 20,
      "outputs": [
        {
          "output_type": "stream",
          "name": "stdout",
          "text": [
            "accuracy=6.25\n"
          ]
        }
      ]
    }
  ]
}